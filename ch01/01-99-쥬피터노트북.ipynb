{
 "cells": [
  {
   "cell_type": "markdown",
   "metadata": {},
   "source": [
    "### 쥬피터 노트북 관련 패키지 설치하기"
   ]
  },
  {
   "cell_type": "markdown",
   "metadata": {},
   "source": [
    "* ipykernel 패키지 설치  \n",
    "\n",
    "  ```\n",
    "  $ (.venv-local) pip --version\n",
    "  $ (.venv-local) pip install ipykernel\n",
    "  $ (.venv-local) pip list\n",
    "  $ (.venv-local) pip freeze > requirements.txt\n",
    "\n",
    "  ```"
   ]
  },
  {
   "cell_type": "markdown",
   "metadata": {},
   "source": [
    "### 쥬피터 노트북 파일 작성하기"
   ]
  },
  {
   "cell_type": "markdown",
   "metadata": {},
   "source": [
    "* .ipynb 확장자로 파일 이름 작성"
   ]
  },
  {
   "cell_type": "code",
   "execution_count": 4,
   "metadata": {},
   "outputs": [
    {
     "name": "stdout",
     "output_type": "stream",
     "text": [
      "Hello, Jupyter Notebook !!! , 안녕 주피터 노트북 !!!\n",
      "안녕 주피터 노트북 !!!\n",
      "안녕 !!!\n"
     ]
    }
   ],
   "source": [
    "print( 'Hello, Jupyter Notebook !!! , 안녕 주피터 노트북 !!!' )\n",
    "print( '안녕 주피터 노트북 !!!' )\n",
    "print( '안녕 !!!' )"
   ]
  }
 ],
 "metadata": {
  "kernelspec": {
   "display_name": ".venv-local",
   "language": "python",
   "name": "python3"
  },
  "language_info": {
   "codemirror_mode": {
    "name": "ipython",
    "version": 3
   },
   "file_extension": ".py",
   "mimetype": "text/x-python",
   "name": "python",
   "nbconvert_exporter": "python",
   "pygments_lexer": "ipython3",
   "version": "3.12.0"
  }
 },
 "nbformat": 4,
 "nbformat_minor": 2
}
