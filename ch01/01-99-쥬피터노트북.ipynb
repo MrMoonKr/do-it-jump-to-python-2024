{
 "cells": [
  {
   "cell_type": "code",
   "execution_count": 1,
   "metadata": {},
   "outputs": [
    {
     "name": "stdout",
     "output_type": "stream",
     "text": [
      "Hello, Jupyter Notebook !!! , 안녕 주피터 노트북 !!!\n"
     ]
    }
   ],
   "source": [
    "print( 'Hello, Jupyter Notebook !!! , 안녕 주피터 노트북 !!!' )"
   ]
  },
  {
   "cell_type": "markdown",
   "metadata": {},
   "source": [
    "## 쥬피터 노트북 관련 패키지 설치 필요.  \n",
    "\n",
    "```\n",
    "$ (.venv-local) pip --version\n",
    "$ (.venv-local) pip install ipykernel\n",
    "$ (.venv-local) pip freeze > requirements.txt\n",
    "```\n"
   ]
  }
 ],
 "metadata": {
  "kernelspec": {
   "display_name": ".venv-local",
   "language": "python",
   "name": "python3"
  },
  "language_info": {
   "codemirror_mode": {
    "name": "ipython",
    "version": 3
   },
   "file_extension": ".py",
   "mimetype": "text/x-python",
   "name": "python",
   "nbconvert_exporter": "python",
   "pygments_lexer": "ipython3",
   "version": "3.12.0"
  }
 },
 "nbformat": 4,
 "nbformat_minor": 2
}
